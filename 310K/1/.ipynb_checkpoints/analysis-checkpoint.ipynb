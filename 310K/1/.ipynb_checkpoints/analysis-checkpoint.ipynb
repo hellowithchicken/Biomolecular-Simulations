{
 "cells": [
  {
   "cell_type": "code",
   "execution_count": 13,
   "id": "70dd3f98-d595-41ee-85d3-517527c0d7c1",
   "metadata": {},
   "outputs": [],
   "source": [
    "def read_xvg(file):\n",
    "    with open(file, 'r') as f:\n",
    "        lines = f.readlines()\n",
    "        x = []\n",
    "        y = []\n",
    "        for line in lines:\n",
    "            try:\n",
    "                x1 = float(line.split()[0])\n",
    "                y1 = float(line.split()[1])\n",
    "                x.append(x1)\n",
    "                y.append(y1)\n",
    "            except ValueError:\n",
    "                pass\n",
    "    return x, y"
   ]
  },
  {
   "cell_type": "code",
   "execution_count": null,
   "id": "0cd5decb-63ca-4b0f-b349-f1ae21cb613d",
   "metadata": {},
   "outputs": [],
   "source": []
  }
 ],
 "metadata": {
  "kernelspec": {
   "display_name": "Python 3",
   "language": "python",
   "name": "python3"
  },
  "language_info": {
   "codemirror_mode": {
    "name": "ipython",
    "version": 3
   },
   "file_extension": ".py",
   "mimetype": "text/x-python",
   "name": "python",
   "nbconvert_exporter": "python",
   "pygments_lexer": "ipython3",
   "version": "3.8.8"
  }
 },
 "nbformat": 4,
 "nbformat_minor": 5
}
